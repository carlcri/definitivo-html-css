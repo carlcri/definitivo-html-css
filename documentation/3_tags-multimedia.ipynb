{
 "cells": [
  {
   "attachments": {},
   "cell_type": "markdown",
   "metadata": {},
   "source": [
    "# Etiquetas Multimedia"
   ]
  },
  {
   "attachments": {},
   "cell_type": "markdown",
   "metadata": {},
   "source": [
    "## Tipos de imágenes\n",
    "\n",
    "Las imágenes representan una pieza fundamental al momento de mostrar contenido para web. Aquí conoceremos los principales tipos de imágenes web y sus formatos.\n",
    "\n",
    "### Lossless (sin pérdida):\n",
    "\n",
    "- Capturan todos los datos del archivo original.\n",
    "\n",
    "- No se pierde nada del archivo original.\n",
    "\n",
    "- Puede comprimirse, pero podrá reconstruir su imagen al estado original\n",
    "\n",
    "### Lossy (con pérdida):\n",
    "\n",
    "- Se aproximan a su imagen original.\n",
    "\n",
    "- Podría reducir la cantidad de colores en su imagen o analizar la imagen en busca de datos innecesarios.\n",
    "\n",
    "- Por consiguiente puede reducir su tamaño, lo que mejora el tiempo de carga de la página, pero pierde su calidad.\n",
    "\n",
    "- Los archivos tipo lossy son mucho más livianos que los archivos tipo lossless, por lo que son ideales para usar en sitios en donde el tamaño del archivo y la velocidad de descarga son importantes.\n",
    "\n",
    "![](https://i.imgur.com/GovQpMa.png)\n",
    "\n",
    "### Formatos de imagen para web\n",
    "\n",
    "- GIF (Graphics Interchange Format): Formato de imagen sin pérdida, no se puede comprimir\n",
    "\n",
    "- PNG 8 (Portable Network Graphics): Formato de imagen sin pérdida, uso de colores de 256, se utiliza para logotipos e iconos para la página.\n",
    "\n",
    "- PNG 24 (Portable Network Graphics): Formato de imagen sin pérdida, utilización de colores ilimitados, alta calidad, si intentamos comprimir no ayudará demasiado por la gran cantidad de colores.\n",
    "\n",
    "- JPG / JPEG (Photographic Experts Group): Formato de imagen con pérdida, perdemos calidad a la hora de comprimirlas, pero llegan a ser óptimas para la carga en la página web.\n",
    "\n",
    "- SVG - Vector (Scalable Vector Graphics): Formato de imagen muy ligero sin pérdida, con svg no perdemos calidad, ya que está compuesta por vectores.\n",
    "\n",
    "- WebP: Es un formato gráfico en forma de contenedor que sustenta tanto compresión con pérdida como sin ella. ​​Fue desarrollado por Google."
   ]
  },
  {
   "attachments": {},
   "cell_type": "markdown",
   "metadata": {},
   "source": [
    "### Aportes estudiantes\n",
    "\n",
    "Les recomiendo 2 páginas muy útiles para conseguir imágenes de muy buena calidad, en diferentes formatos.\n",
    "\n",
    "- Para Iconos: FlatIcon.\n",
    "Ahí van a encontrar miles de iconos de muy buena calidad y de lo que sea que busquen, siendo estos, gratuitos de uso. Además de que se pueden descargar en png, con diferentes resoluciones, o directamente en svg. También puedes editar los iconos directamente.\n",
    "\n",
    "- Para imágenes: Freepik.\n",
    "Aquí hay, tanto iconos, como ilustraciones completas, de mucha calidad, que se pueden descargar en png o psd. Igualmente son de uso libre."
   ]
  },
  {
   "attachments": {},
   "cell_type": "markdown",
   "metadata": {},
   "source": [
    "## Optimización de imágenes\n",
    "\n",
    "¿Te ha pasado entras a un sitio Web y te pasa esto?\n",
    "\n",
    "![](https://i.imgur.com/7juPyXv.png)\n",
    "\n",
    "Imagenes muy pesadas y se demoran demasiado en cargar.\n",
    "\n",
    "### ¿Cual es el tamaño optimo entonces?\n",
    "\n",
    "En promedio una imagen debe pesar alrededor de **70KB**, y para asegurarnos pese eso, hay dos opciones:\n",
    "\n",
    "- Mejora el tamaño de tus imagenes: tiny PNG\n",
    "- Retira metadatos de tus imagenes: Verefix\n",
    "\n",
    "### Aportes Estudiantes\n",
    "\n",
    "¿Y de donde descargar imágenes ??? Pues te traigo un pack de páginas donde puedes descargar imágenes libre de copyright, en algunas puedes elegir el tamaño de la imagen 😉 🚀🚀🚀🚀🚀\n",
    "\n",
    "- Pexels\n",
    "- Pixabay\n",
    "- Freerange\n",
    "- Realistic Shots\n",
    "- PicJumbo\n",
    "- Magdeleine\n",
    "- Creativecommons\n",
    "- Freejpg\n",
    "\n",
    "Compresores de imágenes:\n",
    "\n",
    "- Optimizilla\n",
    "- IloveIMG"
   ]
  },
  {
   "attachments": {},
   "cell_type": "markdown",
   "metadata": {},
   "source": [
    "## Etiqueta(tag) img\n",
    "\n",
    "El elemento HTML *img* incrusta una imagen dentro de un documento. A continuación, veremos cómo funciona.\n",
    "\n",
    "La etiqueta *img* va siempre dentro del contenedor *body*, pues es un elemento visible.\n",
    "\n",
    "- Crearemos una nueva carpeta, llamada **claseImg**, y dentro crearemos un *index.html*\n",
    "- Hay un trucaso para generar la estructura basica del index.html. Sin necesidad de codiarlo todo: colocas es signo de admiracion(!) y le das tabulador 😎\n",
    "\n",
    "Descargamos una imagen de https://www.pexels.com/, de gatitos, de la misma imagen con tres diferentes tamaños, y desde https://tinypng.com/ observamos la compresion para los tres tamaños:\n",
    "\n",
    "![](https://i.imgur.com/zLw7j7d.png)"
   ]
  },
  {
   "attachments": {},
   "cell_type": "markdown",
   "metadata": {},
   "source": [
    "Descarguemolos y agreguemolas al proyecto:\n",
    "\n",
    "![](https://i.imgur.com/0oLUDfw.png)\n",
    "\n",
    "Dentro de tag *img* hay dos atributos y ambos son importantes: \n",
    "\n",
    "- src: donde esta la imagen, de manera local o en internet\n",
    "- alt: descripcion de la imagen. Por ejemplo cuando la imagen no se pueda encontrar, y el navegador no la pueda renderizar, con la descripcion nos sera mucho mas facil solucionar el problema. Y para temas de accesibilidad que lo veremos mas adelante.\n",
    "\n",
    "Si por alguna razon rompemos el enlace:\n",
    "\n",
    "![](https://i.imgur.com/vubZ9Lu.png)"
   ]
  },
  {
   "attachments": {},
   "cell_type": "markdown",
   "metadata": {},
   "source": [
    "### La etiqueta img no es la unica\n",
    "\n",
    "Tambien existe el tag*figure*, y otra sub tag, llamada figcaption, que explicaremos a continuacion"
   ]
  },
  {
   "attachments": {},
   "cell_type": "markdown",
   "metadata": {},
   "source": [
    "## Etiqueta figure\n",
    "\n",
    "Tiene una pequeña etiqueta adicional para agregarle una descripcion, a la imagen. \n",
    "\n",
    "Usualmente la etiqueta img viene contenida dentro de otra, ya sea para posicionarla o darle un tamaño especifico, esa etiqueta puede ser **div**. pero semanticamente no es lo correcto.\n",
    "\n",
    "La etiqueta figure es contenedora, y para este caso su contenido es una o varias imagenes.\n",
    "\n",
    "### figcaption\n",
    "\n",
    "El codigo:\n",
    "\n",
    "![](https://i.imgur.com/zPcah4U.png)\n",
    "\n",
    "![](https://i.imgur.com/n3i1J98.png)\n",
    "\n"
   ]
  },
  {
   "attachments": {},
   "cell_type": "markdown",
   "metadata": {},
   "source": [
    "## Etiqueta video\n",
    "\n",
    "Generaremos una nueva carpeta **claseVideo**\n",
    "\n",
    "atributos importantes\n",
    "\n",
    "- Para que aparezcan los controles: *controls*, y darle play, stop, etc.\n",
    "\n",
    "- preload: que el video empieze a renderizarse, cuando la pagina se empieza a crear en el navegador. Y no exista mucho tiempo de espera. NO SIGNIFCA SE REPRODUZCA AUTOMATICAMENTE. No es una buena practica se reproduzca solo, y es molesto. \n",
    "\n",
    "![](https://i.imgur.com/fpZinI5.png)\n",
    "\n",
    "### Como hacer para que empieze a reproducirse en un tiempo especifico\n",
    "\n",
    "Util si es un video largo. Por ejemplo queremos que se empieze a reproducir en el segundo 5, y para en el segundo 20.\n",
    "\n",
    "![](https://i.imgur.com/qGoVFp0.png)\n",
    "\n",
    "### Que pasa si tengo difernetes formatos de video\n",
    "\n",
    "Puede ser que los navegadores, no tengan o entiendad diferentes formatos. Si te das cuenta la etiqueta de video, tiene una apertura y un cierre, pero no lleva contenido. Entonces sera ahi donde usemos una nueva etiqueta llamada *source*.\n",
    "\n",
    "Y si tengo videos en diferentes formatos, puedo colocar tantas etiquetas de source como desee. ASi si el navegado no entiende que es una *m4v*, pero entiendo que es un *mp4*, pues renderizo este ultimo\n",
    "\n",
    "![](https://i.imgur.com/auElvvc.png)\n"
   ]
  }
 ],
 "metadata": {
  "language_info": {
   "name": "python"
  },
  "orig_nbformat": 4
 },
 "nbformat": 4,
 "nbformat_minor": 2
}
